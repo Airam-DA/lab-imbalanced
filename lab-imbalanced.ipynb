{
 "cells": [
  {
   "cell_type": "markdown",
   "metadata": {},
   "source": [
    "# LAB | Imbalanced"
   ]
  },
  {
   "cell_type": "markdown",
   "metadata": {},
   "source": [
    "**Load the data**\n",
    "\n",
    "In this challenge, we will be working with Credit Card Fraud dataset.\n",
    "\n",
    "https://raw.githubusercontent.com/data-bootcamp-v4/data/main/card_transdata.csv\n",
    "\n",
    "Metadata\n",
    "\n",
    "- **distance_from_home:** the distance from home where the transaction happened.\n",
    "- **distance_from_last_transaction:** the distance from last transaction happened.\n",
    "- **ratio_to_median_purchase_price:** Ratio of purchased price transaction to median purchase price.\n",
    "- **repeat_retailer:** Is the transaction happened from same retailer.\n",
    "- **used_chip:** Is the transaction through chip (credit card).\n",
    "- **used_pin_number:** Is the transaction happened by using PIN number.\n",
    "- **online_order:** Is the transaction an online order.\n",
    "- **fraud:** Is the transaction fraudulent. **0=legit** -  **1=fraud**\n"
   ]
  },
  {
   "cell_type": "code",
   "execution_count": 1,
   "metadata": {},
   "outputs": [],
   "source": [
    "import pandas as pd\n",
    "import numpy as np\n",
    "\n",
    "import seaborn as sns\n",
    "import matplotlib.pyplot as plt\n",
    "\n",
    "from sklearn.model_selection import train_test_split\n",
    "from sklearn.preprocessing import StandardScaler\n",
    "\n",
    "from sklearn.metrics import (\n",
    "    mean_absolute_error as mae,  \n",
    "    root_mean_squared_error as rmse,  \n",
    "    classification_report, \n",
    "    confusion_matrix\n",
    ")\n",
    "\n",
    "from sklearn.linear_model import LogisticRegression\n",
    "\n",
    "from imblearn.over_sampling import RandomOverSampler, SMOTE\n",
    "from imblearn.under_sampling import RandomUnderSampler"
   ]
  },
  {
   "cell_type": "code",
   "execution_count": 3,
   "metadata": {},
   "outputs": [
    {
     "data": {
      "text/html": [
       "<div>\n",
       "<style scoped>\n",
       "    .dataframe tbody tr th:only-of-type {\n",
       "        vertical-align: middle;\n",
       "    }\n",
       "\n",
       "    .dataframe tbody tr th {\n",
       "        vertical-align: top;\n",
       "    }\n",
       "\n",
       "    .dataframe thead th {\n",
       "        text-align: right;\n",
       "    }\n",
       "</style>\n",
       "<table border=\"1\" class=\"dataframe\">\n",
       "  <thead>\n",
       "    <tr style=\"text-align: right;\">\n",
       "      <th></th>\n",
       "      <th>distance_from_home</th>\n",
       "      <th>distance_from_last_transaction</th>\n",
       "      <th>ratio_to_median_purchase_price</th>\n",
       "      <th>repeat_retailer</th>\n",
       "      <th>used_chip</th>\n",
       "      <th>used_pin_number</th>\n",
       "      <th>online_order</th>\n",
       "      <th>fraud</th>\n",
       "    </tr>\n",
       "  </thead>\n",
       "  <tbody>\n",
       "    <tr>\n",
       "      <th>0</th>\n",
       "      <td>57.877857</td>\n",
       "      <td>0.311140</td>\n",
       "      <td>1.945940</td>\n",
       "      <td>1.0</td>\n",
       "      <td>1.0</td>\n",
       "      <td>0.0</td>\n",
       "      <td>0.0</td>\n",
       "      <td>0.0</td>\n",
       "    </tr>\n",
       "    <tr>\n",
       "      <th>1</th>\n",
       "      <td>10.829943</td>\n",
       "      <td>0.175592</td>\n",
       "      <td>1.294219</td>\n",
       "      <td>1.0</td>\n",
       "      <td>0.0</td>\n",
       "      <td>0.0</td>\n",
       "      <td>0.0</td>\n",
       "      <td>0.0</td>\n",
       "    </tr>\n",
       "    <tr>\n",
       "      <th>2</th>\n",
       "      <td>5.091079</td>\n",
       "      <td>0.805153</td>\n",
       "      <td>0.427715</td>\n",
       "      <td>1.0</td>\n",
       "      <td>0.0</td>\n",
       "      <td>0.0</td>\n",
       "      <td>1.0</td>\n",
       "      <td>0.0</td>\n",
       "    </tr>\n",
       "    <tr>\n",
       "      <th>3</th>\n",
       "      <td>2.247564</td>\n",
       "      <td>5.600044</td>\n",
       "      <td>0.362663</td>\n",
       "      <td>1.0</td>\n",
       "      <td>1.0</td>\n",
       "      <td>0.0</td>\n",
       "      <td>1.0</td>\n",
       "      <td>0.0</td>\n",
       "    </tr>\n",
       "    <tr>\n",
       "      <th>4</th>\n",
       "      <td>44.190936</td>\n",
       "      <td>0.566486</td>\n",
       "      <td>2.222767</td>\n",
       "      <td>1.0</td>\n",
       "      <td>1.0</td>\n",
       "      <td>0.0</td>\n",
       "      <td>1.0</td>\n",
       "      <td>0.0</td>\n",
       "    </tr>\n",
       "  </tbody>\n",
       "</table>\n",
       "</div>"
      ],
      "text/plain": [
       "   distance_from_home  distance_from_last_transaction  \\\n",
       "0           57.877857                        0.311140   \n",
       "1           10.829943                        0.175592   \n",
       "2            5.091079                        0.805153   \n",
       "3            2.247564                        5.600044   \n",
       "4           44.190936                        0.566486   \n",
       "\n",
       "   ratio_to_median_purchase_price  repeat_retailer  used_chip  \\\n",
       "0                        1.945940              1.0        1.0   \n",
       "1                        1.294219              1.0        0.0   \n",
       "2                        0.427715              1.0        0.0   \n",
       "3                        0.362663              1.0        1.0   \n",
       "4                        2.222767              1.0        1.0   \n",
       "\n",
       "   used_pin_number  online_order  fraud  \n",
       "0              0.0           0.0    0.0  \n",
       "1              0.0           0.0    0.0  \n",
       "2              0.0           1.0    0.0  \n",
       "3              0.0           1.0    0.0  \n",
       "4              0.0           1.0    0.0  "
      ]
     },
     "execution_count": 3,
     "metadata": {},
     "output_type": "execute_result"
    }
   ],
   "source": [
    "fraud = pd.read_csv(\"https://raw.githubusercontent.com/data-bootcamp-v4/data/main/card_transdata.csv\")\n",
    "fraud.head()"
   ]
  },
  {
   "cell_type": "markdown",
   "metadata": {},
   "source": [
    "**Steps:**"
   ]
  },
  {
   "cell_type": "markdown",
   "metadata": {},
   "source": [
    "- **1.** What is the distribution of our target variable? Can we say we're dealing with an imbalanced dataset?"
   ]
  },
  {
   "cell_type": "code",
   "execution_count": 4,
   "metadata": {},
   "outputs": [
    {
     "name": "stdout",
     "output_type": "stream",
     "text": [
      "fraud\n",
      "0.0    0.912597\n",
      "1.0    0.087403\n",
      "Name: proportion, dtype: float64\n"
     ]
    },
    {
     "data": {
      "image/png": "[encoded data removed]",
      "text/plain": [
       "<Figure size 640x480 with 1 Axes>"
      ]
     },
     "metadata": {},
     "output_type": "display_data"
    }
   ],
   "source": [
    "fraud_counts = fraud[\"fraud\"].value_counts(normalize=True)\n",
    "print(fraud_counts) \n",
    "fraud_counts.plot(kind=\"bar\")\n",
    "plt.title(\"Fraud Distribution\")\n",
    "plt.show()"
   ]
  },
  {
   "cell_type": "markdown",
   "metadata": {},
   "source": [
    "- **2.** Train a LogisticRegression.\n",
    "- **3.** Evaluate your model. Take in consideration class importance, and evaluate it by selection the correct metric."
   ]
  },
  {
   "cell_type": "code",
   "execution_count": 7,
   "metadata": {},
   "outputs": [],
   "source": [
    "X = fraud.drop(columns=[\"fraud\"])\n",
    "y = fraud[\"fraud\"]\n",
    "X_train, X_test, y_train, y_test = train_test_split(X, y, test_size=0.2, random_state=42)"
   ]
  },
  {
   "cell_type": "code",
   "execution_count": 9,
   "metadata": {},
   "outputs": [
    {
     "data": {
      "text/html": [
       "<div>\n",
       "<style scoped>\n",
       "    .dataframe tbody tr th:only-of-type {\n",
       "        vertical-align: middle;\n",
       "    }\n",
       "\n",
       "    .dataframe tbody tr th {\n",
       "        vertical-align: top;\n",
       "    }\n",
       "\n",
       "    .dataframe thead th {\n",
       "        text-align: right;\n",
       "    }\n",
       "</style>\n",
       "<table border=\"1\" class=\"dataframe\">\n",
       "  <thead>\n",
       "    <tr style=\"text-align: right;\">\n",
       "      <th></th>\n",
       "      <th>distance_from_home</th>\n",
       "      <th>distance_from_last_transaction</th>\n",
       "      <th>ratio_to_median_purchase_price</th>\n",
       "      <th>repeat_retailer</th>\n",
       "      <th>used_chip</th>\n",
       "      <th>used_pin_number</th>\n",
       "      <th>online_order</th>\n",
       "    </tr>\n",
       "  </thead>\n",
       "  <tbody>\n",
       "    <tr>\n",
       "      <th>0</th>\n",
       "      <td>0.147170</td>\n",
       "      <td>-0.181191</td>\n",
       "      <td>-0.588185</td>\n",
       "      <td>0.366618</td>\n",
       "      <td>1.361704</td>\n",
       "      <td>-0.334593</td>\n",
       "      <td>0.732884</td>\n",
       "    </tr>\n",
       "    <tr>\n",
       "      <th>1</th>\n",
       "      <td>-0.091174</td>\n",
       "      <td>-0.168859</td>\n",
       "      <td>-0.415653</td>\n",
       "      <td>0.366618</td>\n",
       "      <td>1.361704</td>\n",
       "      <td>-0.334593</td>\n",
       "      <td>0.732884</td>\n",
       "    </tr>\n",
       "    <tr>\n",
       "      <th>2</th>\n",
       "      <td>-0.334813</td>\n",
       "      <td>-0.100009</td>\n",
       "      <td>0.612860</td>\n",
       "      <td>0.366618</td>\n",
       "      <td>1.361704</td>\n",
       "      <td>-0.334593</td>\n",
       "      <td>0.732884</td>\n",
       "    </tr>\n",
       "    <tr>\n",
       "      <th>3</th>\n",
       "      <td>-0.317543</td>\n",
       "      <td>-0.143624</td>\n",
       "      <td>-0.551591</td>\n",
       "      <td>0.366618</td>\n",
       "      <td>-0.734374</td>\n",
       "      <td>-0.334593</td>\n",
       "      <td>0.732884</td>\n",
       "    </tr>\n",
       "    <tr>\n",
       "      <th>4</th>\n",
       "      <td>0.077164</td>\n",
       "      <td>-0.126583</td>\n",
       "      <td>-0.590736</td>\n",
       "      <td>0.366618</td>\n",
       "      <td>-0.734374</td>\n",
       "      <td>-0.334593</td>\n",
       "      <td>-1.364472</td>\n",
       "    </tr>\n",
       "  </tbody>\n",
       "</table>\n",
       "</div>"
      ],
      "text/plain": [
       "   distance_from_home  distance_from_last_transaction  \\\n",
       "0            0.147170                       -0.181191   \n",
       "1           -0.091174                       -0.168859   \n",
       "2           -0.334813                       -0.100009   \n",
       "3           -0.317543                       -0.143624   \n",
       "4            0.077164                       -0.126583   \n",
       "\n",
       "   ratio_to_median_purchase_price  repeat_retailer  used_chip  \\\n",
       "0                       -0.588185         0.366618   1.361704   \n",
       "1                       -0.415653         0.366618   1.361704   \n",
       "2                        0.612860         0.366618   1.361704   \n",
       "3                       -0.551591         0.366618  -0.734374   \n",
       "4                       -0.590736         0.366618  -0.734374   \n",
       "\n",
       "   used_pin_number  online_order  \n",
       "0        -0.334593      0.732884  \n",
       "1        -0.334593      0.732884  \n",
       "2        -0.334593      0.732884  \n",
       "3        -0.334593      0.732884  \n",
       "4        -0.334593     -1.364472  "
      ]
     },
     "metadata": {},
     "output_type": "display_data"
    },
    {
     "data": {
      "text/html": [
       "<div>\n",
       "<style scoped>\n",
       "    .dataframe tbody tr th:only-of-type {\n",
       "        vertical-align: middle;\n",
       "    }\n",
       "\n",
       "    .dataframe tbody tr th {\n",
       "        vertical-align: top;\n",
       "    }\n",
       "\n",
       "    .dataframe thead th {\n",
       "        text-align: right;\n",
       "    }\n",
       "</style>\n",
       "<table border=\"1\" class=\"dataframe\">\n",
       "  <thead>\n",
       "    <tr style=\"text-align: right;\">\n",
       "      <th></th>\n",
       "      <th>distance_from_home</th>\n",
       "      <th>distance_from_last_transaction</th>\n",
       "      <th>ratio_to_median_purchase_price</th>\n",
       "      <th>repeat_retailer</th>\n",
       "      <th>used_chip</th>\n",
       "      <th>used_pin_number</th>\n",
       "      <th>online_order</th>\n",
       "    </tr>\n",
       "  </thead>\n",
       "  <tbody>\n",
       "    <tr>\n",
       "      <th>0</th>\n",
       "      <td>-0.393937</td>\n",
       "      <td>-0.141433</td>\n",
       "      <td>-0.523885</td>\n",
       "      <td>-2.727632</td>\n",
       "      <td>-0.734374</td>\n",
       "      <td>-0.334593</td>\n",
       "      <td>0.732884</td>\n",
       "    </tr>\n",
       "    <tr>\n",
       "      <th>1</th>\n",
       "      <td>-0.398819</td>\n",
       "      <td>-0.182690</td>\n",
       "      <td>0.462906</td>\n",
       "      <td>-2.727632</td>\n",
       "      <td>-0.734374</td>\n",
       "      <td>-0.334593</td>\n",
       "      <td>0.732884</td>\n",
       "    </tr>\n",
       "    <tr>\n",
       "      <th>2</th>\n",
       "      <td>-0.347528</td>\n",
       "      <td>-0.170524</td>\n",
       "      <td>-0.087760</td>\n",
       "      <td>0.366618</td>\n",
       "      <td>-0.734374</td>\n",
       "      <td>-0.334593</td>\n",
       "      <td>-1.364472</td>\n",
       "    </tr>\n",
       "    <tr>\n",
       "      <th>3</th>\n",
       "      <td>-0.073922</td>\n",
       "      <td>-0.189852</td>\n",
       "      <td>3.432119</td>\n",
       "      <td>0.366618</td>\n",
       "      <td>-0.734374</td>\n",
       "      <td>-0.334593</td>\n",
       "      <td>-1.364472</td>\n",
       "    </tr>\n",
       "    <tr>\n",
       "      <th>4</th>\n",
       "      <td>-0.357425</td>\n",
       "      <td>-0.125838</td>\n",
       "      <td>0.072892</td>\n",
       "      <td>0.366618</td>\n",
       "      <td>-0.734374</td>\n",
       "      <td>-0.334593</td>\n",
       "      <td>-1.364472</td>\n",
       "    </tr>\n",
       "  </tbody>\n",
       "</table>\n",
       "</div>"
      ],
      "text/plain": [
       "   distance_from_home  distance_from_last_transaction  \\\n",
       "0           -0.393937                       -0.141433   \n",
       "1           -0.398819                       -0.182690   \n",
       "2           -0.347528                       -0.170524   \n",
       "3           -0.073922                       -0.189852   \n",
       "4           -0.357425                       -0.125838   \n",
       "\n",
       "   ratio_to_median_purchase_price  repeat_retailer  used_chip  \\\n",
       "0                       -0.523885        -2.727632  -0.734374   \n",
       "1                        0.462906        -2.727632  -0.734374   \n",
       "2                       -0.087760         0.366618  -0.734374   \n",
       "3                        3.432119         0.366618  -0.734374   \n",
       "4                        0.072892         0.366618  -0.734374   \n",
       "\n",
       "   used_pin_number  online_order  \n",
       "0        -0.334593      0.732884  \n",
       "1        -0.334593      0.732884  \n",
       "2        -0.334593     -1.364472  \n",
       "3        -0.334593     -1.364472  \n",
       "4        -0.334593     -1.364472  "
      ]
     },
     "metadata": {},
     "output_type": "display_data"
    }
   ],
   "source": [
    "scaler = StandardScaler().fit(X_train) \n",
    "\n",
    "X_train_scaled = pd.DataFrame(scaler.transform(X_train), columns=X_train.columns)\n",
    "X_test_scaled = pd.DataFrame(scaler.transform(X_test), columns=X_test.columns)\n",
    "\n",
    "display (X_train_scaled.head())\n",
    "display( X_test_scaled.head())"
   ]
  },
  {
   "cell_type": "code",
   "execution_count": 11,
   "metadata": {},
   "outputs": [
    {
     "name": "stdout",
     "output_type": "stream",
     "text": [
      "R² score (Train): 0.95885875\n",
      "R² score (Test): 0.95875\n",
      "MAE (Test): 0.04125\n",
      "RMSE (Test): 0.203100960115899\n",
      "\n",
      "Confusion Matrix:\n",
      " [[181283   1274]\n",
      " [  6976  10467]]\n",
      "\n",
      "Classification Report:\n",
      "               precision    recall  f1-score   support\n",
      "\n",
      "         0.0       0.96      0.99      0.98    182557\n",
      "         1.0       0.89      0.60      0.72     17443\n",
      "\n",
      "    accuracy                           0.96    200000\n",
      "   macro avg       0.93      0.80      0.85    200000\n",
      "weighted avg       0.96      0.96      0.96    200000\n",
      "\n"
     ]
    },
    {
     "data": {
      "image/png": "[encoded data removed]",
      "text/plain": [
       "<Figure size 800x600 with 2 Axes>"
      ]
     },
     "metadata": {},
     "output_type": "display_data"
    }
   ],
   "source": [
    "log_reg = LogisticRegression()\n",
    "log_reg.fit(X_train_scaled, y_train)\n",
    "y_pred = log_reg.predict(X_test_scaled)\n",
    "\n",
    "print(\"R² score (Train):\", log_reg.score(X_train_scaled, y_train))\n",
    "print(\"R² score (Test):\", log_reg.score(X_test_scaled, y_test))\n",
    "print(\"MAE (Test):\", mae(y_test, y_pred))\n",
    "print(\"RMSE (Test):\", rmse(y_test, y_pred))\n",
    "\n",
    "print(\"\\nConfusion Matrix:\\n\", confusion_matrix(y_test, y_pred))\n",
    "print(\"\\nClassification Report:\\n\", classification_report(y_test, y_pred))\n",
    "plt.figure(figsize=(8, 6))\n",
    "cm = confusion_matrix(y_test, y_pred)\n",
    "sns.heatmap(cm, annot=True, fmt='d', cmap='Blues')\n",
    "plt.title('Confusion Matrix')\n",
    "plt.ylabel('True Label')\n",
    "plt.xlabel('Predicted Label')\n",
    "plt.show()"
   ]
  },
  {
   "cell_type": "markdown",
   "metadata": {},
   "source": [
    "- True Negatives (181,283): Non-fraud transactions correctly classified as non-fraud.\n",
    "- False Positives (1,274): Number of non-fraud transactions incorrectly classified as fraud.\n",
    "- False Negatives (6,976): Number of fraud transactions incorrectly classified as non-fraud.\n",
    "- True Positives (10,467): Number of fraud transactions correctly classified as fraud."
   ]
  },
  {
   "cell_type": "markdown",
   "metadata": {},
   "source": [
    "Precision:\n",
    "- 96% → 4% of non-fraud classifications are actually fraud.\n",
    "- 89% → 11% of fraud classifications are actually non-fraud.\n",
    "  \n",
    "Recall:\n",
    "- 99% → Almost all non-fraud cases are correctly identified.\n",
    "- 60% → 40% of fraud cases are missed (high False Negatives).\n",
    "\n",
    "F1-score:\n",
    "- 98% for non-fraud\n",
    "- 72% for fraud\n",
    "\n",
    "Accuracy:\n",
    "- 96% overall correctness."
   ]
  },
  {
   "cell_type": "markdown",
   "metadata": {},
   "source": [
    "Key Insights\n",
    "- High Overall Accuracy (96%) – The model performs well overall, but accuracy alone isn’t enough in fraud detection due to class imbalance.\n",
    "- Recall for Fraud is Low (60%) – 40% of fraud cases are not being detected, which could be risky in real-world fraud detection scenarios.\n",
    "- Precision for Fraud is 89% – Meaning that 11% of the flagged fraud cases are actually legitimate.\n",
    "- High False Negatives (6,976 cases) – The model is still missing a large number of fraud cases, which could have serious consequences."
   ]
  },
  {
   "cell_type": "markdown",
   "metadata": {},
   "source": [
    "- **4.** Run **Oversample** in order to balance our target variable and repeat the steps above, now with balanced data. Does it improve the performance of our model? "
   ]
  },
  {
   "cell_type": "code",
   "execution_count": 13,
   "metadata": {},
   "outputs": [
    {
     "name": "stdout",
     "output_type": "stream",
     "text": [
      "Training Data Class Distribution After Oversampling:\n",
      "fraud\n",
      "0.0    50.0\n",
      "1.0    50.0\n",
      "Name: proportion, dtype: float64\n",
      "\n",
      "Confusion Matrix:\n",
      " [[170347  12210]\n",
      " [   852  16591]]\n",
      "\n",
      "Classification Report After Oversampling:\n",
      "              precision    recall  f1-score   support\n",
      "\n",
      "         0.0       1.00      0.93      0.96    182557\n",
      "         1.0       0.58      0.95      0.72     17443\n",
      "\n",
      "    accuracy                           0.93    200000\n",
      "   macro avg       0.79      0.94      0.84    200000\n",
      "weighted avg       0.96      0.93      0.94    200000\n",
      "\n"
     ]
    },
    {
     "data": {
      "image/png": "[encoded data removed]",
      "text/plain": [
       "<Figure size 800x600 with 2 Axes>"
      ]
     },
     "metadata": {},
     "output_type": "display_data"
    }
   ],
   "source": [
    "ros = RandomOverSampler(random_state=42)\n",
    "X_train_ros, y_train_ros = ros.fit_resample(X_train_scaled, y_train)\n",
    "\n",
    "print(\"Training Data Class Distribution After Oversampling:\")\n",
    "print(pd.Series(y_train_ros).value_counts(normalize=True) * 100)\n",
    "\n",
    "model_ros = LogisticRegression(random_state=42, max_iter=1000)\n",
    "model_ros.fit(X_train_ros, y_train_ros)\n",
    "\n",
    "y_pred_ros = model_ros.predict(X_test_scaled)\n",
    "print(\"\\nConfusion Matrix:\\n\", confusion_matrix(y_test, y_pred_ros))\n",
    "print(\"\\nClassification Report After Oversampling:\")\n",
    "print(classification_report(y_test, y_pred_ros))\n",
    "\n",
    "plt.figure(figsize=(8, 6))\n",
    "cm_ros = confusion_matrix(y_test, y_pred_ros)\n",
    "sns.heatmap(cm_ros, annot=True, fmt='d', cmap='Blues')\n",
    "plt.title('Confusion Matrix - After Oversampling')\n",
    "plt.ylabel('True Label')\n",
    "plt.xlabel('Predicted Label')\n",
    "plt.show()"
   ]
  },
  {
   "cell_type": "markdown",
   "metadata": {},
   "source": [
    "- **5.** Now, run **Undersample** in order to balance our target variable and repeat the steps above (1-3), now with balanced data. Does it improve the performance of our model?"
   ]
  },
  {
   "cell_type": "code",
   "execution_count": 15,
   "metadata": {},
   "outputs": [
    {
     "name": "stdout",
     "output_type": "stream",
     "text": [
      "Training Data Class Distribution After Undersampling:\n",
      "fraud\n",
      "0.0    50.0\n",
      "1.0    50.0\n",
      "Name: proportion, dtype: float64\n",
      "\n",
      "Confusion Matrix:\n",
      " [[170295  12262]\n",
      " [   842  16601]]\n",
      "\n",
      "Classification Report After Undersampling:\n",
      "              precision    recall  f1-score   support\n",
      "\n",
      "         0.0       1.00      0.93      0.96    182557\n",
      "         1.0       0.58      0.95      0.72     17443\n",
      "\n",
      "    accuracy                           0.93    200000\n",
      "   macro avg       0.79      0.94      0.84    200000\n",
      "weighted avg       0.96      0.93      0.94    200000\n",
      "\n"
     ]
    },
    {
     "data": {
      "image/png": "[encoded data removed]",
      "text/plain": [
       "<Figure size 800x600 with 2 Axes>"
      ]
     },
     "metadata": {},
     "output_type": "display_data"
    }
   ],
   "source": [
    "rus = RandomUnderSampler(random_state=42)\n",
    "X_train_rus, y_train_rus = rus.fit_resample(X_train_scaled, y_train)\n",
    "\n",
    "print(\"Training Data Class Distribution After Undersampling:\")\n",
    "print(pd.Series(y_train_rus).value_counts(normalize=True) * 100)\n",
    "\n",
    "model_rus = LogisticRegression(random_state=42, max_iter=1000)\n",
    "model_rus.fit(X_train_rus, y_train_rus)\n",
    "\n",
    "y_pred_rus = model_rus.predict(X_test_scaled)\n",
    "print(\"\\nConfusion Matrix:\\n\", confusion_matrix(y_test, y_pred_rus))\n",
    "print(\"\\nClassification Report After Undersampling:\")\n",
    "print(classification_report(y_test, y_pred_rus))\n",
    "\n",
    "plt.figure(figsize=(8, 6))\n",
    "cm_rus = confusion_matrix(y_test, y_pred_rus)\n",
    "sns.heatmap(cm_rus, annot=True, fmt='d', cmap='Blues')\n",
    "plt.title('Confusion Matrix - After Undersampling')\n",
    "plt.ylabel('True Label')\n",
    "plt.xlabel('Predicted Label')\n",
    "plt.show()"
   ]
  },
  {
   "cell_type": "markdown",
   "metadata": {},
   "source": [
    "- **6.** Finally, run **SMOTE** in order to balance our target variable and repeat the steps above (1-3), now with balanced data. Does it improve the performance of our model? "
   ]
  },
  {
   "cell_type": "code",
   "execution_count": 17,
   "metadata": {},
   "outputs": [
    {
     "name": "stdout",
     "output_type": "stream",
     "text": [
      "Training Data Class Distribution After SMOTE:\n",
      "fraud\n",
      "0.0    50.0\n",
      "1.0    50.0\n",
      "Name: proportion, dtype: float64\n",
      "\n",
      "Confusion Matrix:\n",
      " [[170334  12223]\n",
      " [   848  16595]]\n",
      "\n",
      "Classification Report After SMOTE:\n",
      "              precision    recall  f1-score   support\n",
      "\n",
      "         0.0       1.00      0.93      0.96    182557\n",
      "         1.0       0.58      0.95      0.72     17443\n",
      "\n",
      "    accuracy                           0.93    200000\n",
      "   macro avg       0.79      0.94      0.84    200000\n",
      "weighted avg       0.96      0.93      0.94    200000\n",
      "\n"
     ]
    },
    {
     "data": {
      "image/png": "[encoded data removed]",
      "text/plain": [
       "<Figure size 800x600 with 2 Axes>"
      ]
     },
     "metadata": {},
     "output_type": "display_data"
    }
   ],
   "source": [
    "smote = SMOTE(random_state=42, sampling_strategy=1.0)\n",
    "X_train_smote, y_train_smote = smote.fit_resample(X_train_scaled, y_train)\n",
    "\n",
    "print(\"Training Data Class Distribution After SMOTE:\")\n",
    "print(pd.Series(y_train_smote).value_counts(normalize=True) * 100)\n",
    "\n",
    "model_smote = LogisticRegression(random_state=42, max_iter=1000)\n",
    "model_smote.fit(X_train_smote, y_train_smote)\n",
    "\n",
    "y_pred_smote = model_smote.predict(X_test_scaled)\n",
    "print(\"\\nConfusion Matrix:\\n\", confusion_matrix(y_test, y_pred_smote))\n",
    "print(\"\\nClassification Report After SMOTE:\")\n",
    "print(classification_report(y_test, y_pred_smote))\n",
    "\n",
    "plt.figure(figsize=(8, 6))\n",
    "cm_smote = confusion_matrix(y_test, y_pred_smote)\n",
    "sns.heatmap(cm_smote, annot=True, fmt='d', cmap='Blues')\n",
    "plt.title('Confusion Matrix - After SMOTE')\n",
    "plt.ylabel('True Label')\n",
    "plt.xlabel('Predicted Label')\n",
    "plt.show()"
   ]
  },
  {
   "cell_type": "markdown",
   "metadata": {},
   "source": [
    "## **Comparison**\n",
    "\n",
    "### **1. Original Logistic Regression (No Resampling)**"
   ]
  },
  {
   "cell_type": "markdown",
   "metadata": {},
   "source": [
    "#### **Classification Report**\n",
    "| Class | Precision | Recall | F1-Score | Support |\n",
    "|--------|------------|--------|-----------|---------|\n",
    "| **0 (Non-Fraud)** | 0.96 | 0.99 | 0.98 | 182,557 |\n",
    "| **1 (Fraud)** | 0.89 | 0.60 | 0.72 | 17,443 |\n",
    "| **Accuracy** | **96%** |  |  | 200,000 |\n",
    "  \n",
    "- High **precision (0.89)** for fraud cases but **low recall (0.60)** missing many fraud cases.  \n",
    "- Many fraud cases are **missed** (high false negatives) although overall **accuracy** is high (96%).  \n",
    "\n",
    "---\n",
    "\n",
    "### **2. After Applying Resampling Techniques**\n",
    "Each resampling method resulted in **similar classification reports** but **slightly different confusion matrices**.\n",
    "\n",
    "#### **Oversampling**"
   ]
  },
  {
   "cell_type": "markdown",
   "metadata": {},
   "source": [
    "#### **Classification Report**\n",
    "| Class | Precision | Recall | F1-Score | Support |\n",
    "|--------|------------|--------|-----------|---------|\n",
    "| **0 (Non-Fraud)** | 1.00 | 0.93 | 0.96 | 182,557 |\n",
    "| **1 (Fraud)** | 0.58 | 0.95 | 0.72 | 17,443 |\n",
    "| **Accuracy** | **93%** |  |  | 200,000 |\n",
    "\n",
    "---\n",
    "\n",
    "#### **Undersampling**"
   ]
  },
  {
   "cell_type": "markdown",
   "metadata": {
    "jp-MarkdownHeadingCollapsed": true
   },
   "source": [
    "#### **Classification Report**\n",
    "| Class | Precision | Recall | F1-Score | Support |\n",
    "|--------|------------|--------|-----------|---------|\n",
    "| **0 (Non-Fraud)** | 1.00 | 0.93 | 0.96 | 182,557 |\n",
    "| **1 (Fraud)** | 0.58 | 0.95 | 0.72 | 17,443 |\n",
    "| **Accuracy** | **93%** |  |  | 200,000 |\n",
    "\n",
    "---\n",
    "\n",
    "#### **SMOTE**"
   ]
  },
  {
   "cell_type": "markdown",
   "metadata": {},
   "source": [
    "### **Classification Report**\n",
    "| Class | Precision | Recall | F1-Score | Support |\n",
    "|--------|------------|--------|-----------|---------|\n",
    "| **0 (Non-Fraud)** | 1.00 | 0.93 | 0.96 | 182,557 |\n",
    "| **1 (Fraud)** | 0.58 | 0.95 | 0.72 | 17,443 |\n",
    "| **Accuracy** | **93%** |  |  | 200,000 |\n",
    "\n",
    "---\n",
    "\n",
    "#### **What Improved?**\n",
    "- **Recall for fraud cases increased from 0.60 → 0.95**  \n",
    "  → More fraud cases were caught.  \n",
    "\n",
    "#### **What Got Worse?**\n",
    "- **Precision for fraud cases dropped from 0.89 → 0.58**  \n",
    "  → More false positives (non-fraud cases misclassified as fraud).  \n",
    "\n",
    "#### **Why are Confusion Matrices Different, but Reports the Same?**\n",
    "- Small variations in confusion matrices are due to **randomness in resampling**.  \n",
    "- However, since the overall proportion of correct/incorrect classifications remains similar, **classification reports show the same metrics**.\n",
    "\n",
    "---\n",
    "\n",
    "#### **Best Approach?**\n",
    "| Scenario | Best Approach |\n",
    "|-----------|--------------|\n",
    "| If **catching more fraud is the priority** | **Use resampling** (Higher Recall - 95%) |\n",
    "| If **reducing false positives is the priority** | **Use original model** (Higher Precision - 89%) |\n",
    "\n"
   ]
  }
 ],
 "metadata": {
  "kernelspec": {
   "display_name": "Python [conda env:base] *",
   "language": "python",
   "name": "conda-base-py"
  },
  "language_info": {
   "codemirror_mode": {
    "name": "ipython",
    "version": 3
   },
   "file_extension": ".py",
   "mimetype": "text/x-python",
   "name": "python",
   "nbconvert_exporter": "python",
   "pygments_lexer": "ipython3",
   "version": "3.12.7"
  }
 },
 "nbformat": 4,
 "nbformat_minor": 4
}
